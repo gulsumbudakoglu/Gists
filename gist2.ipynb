{
 "cells": [
  {
   "cell_type": "code",
   "execution_count": 1,
   "metadata": {},
   "outputs": [],
   "source": [
    "import pandas as pd\n",
    "\n",
    "from sentence_transformers import SentenceTransformer, models, InputExample, losses\n",
    "from torch import nn\n",
    "from sentence_transformers.evaluation import EmbeddingSimilarityEvaluator\n",
    "from torch.utils.data import DataLoader\n",
    "from sentence_transformers import SentenceTransformer, util"
   ]
  },
  {
   "cell_type": "code",
   "execution_count": 2,
   "metadata": {},
   "outputs": [],
   "source": [
    "test = pd.read_csv(\"/Users/gulsumbudakoglu/Desktop/working_mix/stsb_multi_mt-dataset-test.csv\")\n",
    "test['similarity_score'] = test['similarity_score'].astype(float)"
   ]
  },
  {
   "cell_type": "code",
   "execution_count": 3,
   "metadata": {},
   "outputs": [
    {
     "data": {
      "text/html": [
       "<div>\n",
       "<style scoped>\n",
       "    .dataframe tbody tr th:only-of-type {\n",
       "        vertical-align: middle;\n",
       "    }\n",
       "\n",
       "    .dataframe tbody tr th {\n",
       "        vertical-align: top;\n",
       "    }\n",
       "\n",
       "    .dataframe thead th {\n",
       "        text-align: right;\n",
       "    }\n",
       "</style>\n",
       "<table border=\"1\" class=\"dataframe\">\n",
       "  <thead>\n",
       "    <tr style=\"text-align: right;\">\n",
       "      <th></th>\n",
       "      <th>sentence1</th>\n",
       "      <th>sentence2</th>\n",
       "      <th>similarity_score</th>\n",
       "    </tr>\n",
       "  </thead>\n",
       "  <tbody>\n",
       "    <tr>\n",
       "      <th>0</th>\n",
       "      <td>A girl is styling her hair.</td>\n",
       "      <td>A girl is brushing her hair.</td>\n",
       "      <td>2.5</td>\n",
       "    </tr>\n",
       "    <tr>\n",
       "      <th>1</th>\n",
       "      <td>A group of men play soccer on the beach.</td>\n",
       "      <td>A group of boys are playing soccer on the beach.</td>\n",
       "      <td>3.6</td>\n",
       "    </tr>\n",
       "    <tr>\n",
       "      <th>2</th>\n",
       "      <td>One woman is measuring another woman's ankle.</td>\n",
       "      <td>A woman measures another woman's ankle.</td>\n",
       "      <td>5.0</td>\n",
       "    </tr>\n",
       "    <tr>\n",
       "      <th>3</th>\n",
       "      <td>A man is cutting up a cucumber.</td>\n",
       "      <td>A man is slicing a cucumber.</td>\n",
       "      <td>4.2</td>\n",
       "    </tr>\n",
       "    <tr>\n",
       "      <th>4</th>\n",
       "      <td>A man is playing a harp.</td>\n",
       "      <td>A man is playing a keyboard.</td>\n",
       "      <td>1.5</td>\n",
       "    </tr>\n",
       "  </tbody>\n",
       "</table>\n",
       "</div>"
      ],
      "text/plain": [
       "                                       sentence1  \\\n",
       "0                    A girl is styling her hair.   \n",
       "1       A group of men play soccer on the beach.   \n",
       "2  One woman is measuring another woman's ankle.   \n",
       "3                A man is cutting up a cucumber.   \n",
       "4                       A man is playing a harp.   \n",
       "\n",
       "                                          sentence2  similarity_score  \n",
       "0                      A girl is brushing her hair.               2.5  \n",
       "1  A group of boys are playing soccer on the beach.               3.6  \n",
       "2           A woman measures another woman's ankle.               5.0  \n",
       "3                      A man is slicing a cucumber.               4.2  \n",
       "4                      A man is playing a keyboard.               1.5  "
      ]
     },
     "execution_count": 3,
     "metadata": {},
     "output_type": "execute_result"
    }
   ],
   "source": [
    "test.head()"
   ]
  },
  {
   "cell_type": "code",
   "execution_count": 4,
   "metadata": {},
   "outputs": [],
   "source": [
    "#loading fine-tuned model\n",
    "model = SentenceTransformer(\"/Users/gulsumbudakoglu/Desktop/working_mix/model\")"
   ]
  },
  {
   "cell_type": "code",
   "execution_count": 5,
   "metadata": {},
   "outputs": [
    {
     "data": {
      "text/plain": [
       "SentenceTransformer(\n",
       "  (0): Transformer({'max_seq_length': 128, 'do_lower_case': False}) with Transformer model: DistilBertModel \n",
       "  (1): Pooling({'word_embedding_dimension': 768, 'pooling_mode_cls_token': False, 'pooling_mode_mean_tokens': True, 'pooling_mode_max_tokens': False, 'pooling_mode_mean_sqrt_len_tokens': False})\n",
       ")"
      ]
     },
     "execution_count": 5,
     "metadata": {},
     "output_type": "execute_result"
    }
   ],
   "source": [
    "model"
   ]
  },
  {
   "cell_type": "code",
   "execution_count": 6,
   "metadata": {},
   "outputs": [],
   "source": [
    "#taking embeddings of paie sentence of test set\n",
    "embeddings1 = model.encode(test[\"sentence1\"].to_list(), convert_to_tensor=True)\n",
    "embeddings2 = model.encode(test[\"sentence2\"].to_list(), convert_to_tensor=True)"
   ]
  },
  {
   "cell_type": "code",
   "execution_count": 7,
   "metadata": {},
   "outputs": [
    {
     "data": {
      "text/plain": [
       "tensor([[ 0.2911, -0.4535, -0.2336,  ..., -0.5521,  0.1239, -0.1041],\n",
       "        [ 0.1143, -0.1039, -0.3723,  ..., -0.4470,  0.1718, -0.2451],\n",
       "        [ 0.0634, -0.3298, -0.3007,  ..., -0.4745,  0.1426, -0.0717],\n",
       "        ...,\n",
       "        [ 0.4151, -0.1007, -0.3630,  ..., -0.2394,  0.2557,  0.0115],\n",
       "        [-0.1775, -0.1145, -0.1418,  ..., -0.5425,  0.1107, -0.1174],\n",
       "        [-0.2082, -0.1785, -0.2496,  ..., -0.4536,  0.0816, -0.2233]])"
      ]
     },
     "execution_count": 7,
     "metadata": {},
     "output_type": "execute_result"
    }
   ],
   "source": [
    "embeddings1"
   ]
  },
  {
   "cell_type": "code",
   "execution_count": 8,
   "metadata": {},
   "outputs": [
    {
     "data": {
      "text/plain": [
       "tensor([[ 0.2003, -0.4308, -0.2572,  ..., -0.5210,  0.1191, -0.0970],\n",
       "        [ 0.1397, -0.1387, -0.3283,  ..., -0.4520,  0.1338, -0.2724],\n",
       "        [ 0.0124, -0.4089, -0.2747,  ..., -0.5099,  0.0624, -0.1058],\n",
       "        ...,\n",
       "        [ 0.0966, -0.1952, -0.1907,  ..., -0.4140,  0.2513, -0.0777],\n",
       "        [ 0.0345, -0.1034, -0.1078,  ..., -0.4854,  0.1179, -0.1316],\n",
       "        [-0.2990, -0.1659, -0.0809,  ..., -0.5120,  0.1733, -0.1698]])"
      ]
     },
     "execution_count": 8,
     "metadata": {},
     "output_type": "execute_result"
    }
   ],
   "source": [
    "embeddings2"
   ]
  },
  {
   "cell_type": "code",
   "execution_count": 9,
   "metadata": {},
   "outputs": [],
   "source": [
    "#appending embedding as a column on the test dataset\n",
    "\n",
    "test[\"embedding_sentence1\"] = [t.numpy() for t in embeddings1]\n",
    "test[\"embedding_sentence2\"] = [t.numpy() for t in embeddings2]"
   ]
  },
  {
   "cell_type": "code",
   "execution_count": 10,
   "metadata": {},
   "outputs": [],
   "source": [
    "#adding seperatly embeddings layers on the test dataset\n",
    "df1 = pd.DataFrame(test['embedding_sentence1'].tolist(), index= test.index).add_prefix('sentence1_embedding_').fillna('')\n",
    "df2 = pd.DataFrame(test['embedding_sentence2'].tolist(), index= test.index).add_prefix('sentence2_embedding_').fillna('')\n",
    "\n",
    "test = test.join(df1)\n",
    "test = test.join(df2)"
   ]
  },
  {
   "cell_type": "code",
   "execution_count": 11,
   "metadata": {},
   "outputs": [],
   "source": [
    "#Compute cosine-similarities\n",
    "cosine_scores = util.cos_sim(embeddings1, embeddings2)\n",
    "cosine_similarity = []\n",
    "for i in range(len(test.sentence1)):\n",
    "    cosine_similarity.append(cosine_scores[i][i].numpy())\n",
    "test['cosine_similarity'] = cosine_similarity"
   ]
  },
  {
   "cell_type": "code",
   "execution_count": 13,
   "metadata": {},
   "outputs": [
    {
     "data": {
      "text/plain": [
       "Index(['sentence1', 'sentence2', 'similarity_score', 'embedding_sentence1',\n",
       "       'embedding_sentence2', 'sentence1_embedding_0', 'sentence1_embedding_1',\n",
       "       'sentence1_embedding_2', 'sentence1_embedding_3',\n",
       "       'sentence1_embedding_4',\n",
       "       ...\n",
       "       'sentence2_embedding_759', 'sentence2_embedding_760',\n",
       "       'sentence2_embedding_761', 'sentence2_embedding_762',\n",
       "       'sentence2_embedding_763', 'sentence2_embedding_764',\n",
       "       'sentence2_embedding_765', 'sentence2_embedding_766',\n",
       "       'sentence2_embedding_767', 'cosine_similarity'],\n",
       "      dtype='object', length=1542)"
      ]
     },
     "execution_count": 13,
     "metadata": {},
     "output_type": "execute_result"
    }
   ],
   "source": [
    "test.columns"
   ]
  }
 ],
 "metadata": {
  "interpreter": {
   "hash": "3d597f4c481aa0f25dceb95d2a0067e73c0966dcbd003d741d821a7208527ecf"
  },
  "kernelspec": {
   "display_name": "Python 3.9.7",
   "language": "python",
   "name": "python3"
  },
  "language_info": {
   "codemirror_mode": {
    "name": "ipython",
    "version": 3
   },
   "file_extension": ".py",
   "mimetype": "text/x-python",
   "name": "python",
   "nbconvert_exporter": "python",
   "pygments_lexer": "ipython3",
   "version": "3.9.7"
  },
  "orig_nbformat": 4
 },
 "nbformat": 4,
 "nbformat_minor": 2
}
