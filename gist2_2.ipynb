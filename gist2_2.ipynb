{
 "cells": [
  {
   "cell_type": "code",
   "execution_count": 3,
   "metadata": {},
   "outputs": [],
   "source": [
    "import pandas as pd\n",
    "from sklearn.decomposition import PCA"
   ]
  },
  {
   "cell_type": "code",
   "execution_count": 14,
   "metadata": {},
   "outputs": [],
   "source": [
    "from sklearn.decomposition import PCA\n",
    "X = test[test.columns[6:]].drop([\"cosine_similarity\"], axis = 1)\n",
    "pca = PCA(n_components=100)\n",
    "fit = pca.fit(X)"
   ]
  },
  {
   "cell_type": "code",
   "execution_count": 15,
   "metadata": {},
   "outputs": [
    {
     "data": {
      "text/plain": [
       "0.8233555"
      ]
     },
     "execution_count": 15,
     "metadata": {},
     "output_type": "execute_result"
    }
   ],
   "source": [
    "# we have %82 explained varience ratio\n",
    "fit.explained_variance_ratio_.sum()"
   ]
  },
  {
   "cell_type": "code",
   "execution_count": 16,
   "metadata": {},
   "outputs": [
    {
     "data": {
      "text/plain": [
       "array([[1.4281302e-03, 3.2371946e-02, 3.8480121e-03, ..., 2.8738031e-02,\n",
       "        1.0960379e-02, 2.1082051e-02],\n",
       "       [1.4674920e-02, 1.6520880e-02, 9.9969571e-03, ..., 3.5642982e-02,\n",
       "        3.6513265e-03, 2.3914292e-02],\n",
       "       [1.3421960e-02, 4.3911550e-02, 4.2222917e-02, ..., 3.7550602e-02,\n",
       "        2.2599369e-02, 1.1163627e-02],\n",
       "       ...,\n",
       "       [1.2910229e-03, 1.4920277e-03, 1.0715933e-02, ..., 1.3616335e-02,\n",
       "        5.7692230e-03, 1.2233026e-02],\n",
       "       [2.8258523e-02, 2.1010404e-05, 1.7177662e-02, ..., 3.6163725e-02,\n",
       "        3.0210093e-02, 2.0624332e-02],\n",
       "       [1.7972412e-02, 3.7280556e-02, 6.6602202e-03, ..., 1.3211187e-02,\n",
       "        1.1300149e-03, 4.6230038e-03]], dtype=float32)"
      ]
     },
     "execution_count": 16,
     "metadata": {},
     "output_type": "execute_result"
    }
   ],
   "source": [
    "abs( fit.components_ )"
   ]
  },
  {
   "cell_type": "code",
   "execution_count": 17,
   "metadata": {},
   "outputs": [
    {
     "data": {
      "text/plain": [
       "array([0.00142813, 0.03237195, 0.00384801, ..., 0.02873803, 0.01096038,\n",
       "       0.02108205], dtype=float32)"
      ]
     },
     "execution_count": 17,
     "metadata": {},
     "output_type": "execute_result"
    }
   ],
   "source": [
    "#PCA1 components\n",
    "abs( fit.components_ )[0]"
   ]
  },
  {
   "cell_type": "code",
   "execution_count": 18,
   "metadata": {},
   "outputs": [],
   "source": [
    "# create dictionary according to the fist PCA component\n",
    "keys = X.columns.to_list()\n",
    "values = (abs( fit.components_ )[0]).tolist()\n",
    "pca_importance = dict(zip(keys, values))"
   ]
  },
  {
   "cell_type": "code",
   "execution_count": 19,
   "metadata": {},
   "outputs": [
    {
     "data": {
      "text/plain": [
       "[('sentence2_embedding_197', 0.09888315945863724),\n",
       " ('sentence1_embedding_197', 0.0970592275261879),\n",
       " ('sentence2_embedding_287', 0.07384610176086426),\n",
       " ('sentence2_embedding_355', 0.07216724753379822),\n",
       " ('sentence1_embedding_287', 0.07155726850032806),\n",
       " ('sentence2_embedding_445', 0.07127378135919571),\n",
       " ('sentence1_embedding_121', 0.07071035355329514),\n",
       " ('sentence1_embedding_355', 0.07046829909086227),\n",
       " ('sentence1_embedding_445', 0.07043753564357758),\n",
       " ('sentence2_embedding_739', 0.07032965123653412)]"
      ]
     },
     "execution_count": 19,
     "metadata": {},
     "output_type": "execute_result"
    }
   ],
   "source": [
    "#select the fist 10 components from PCA1\n",
    "sorted(pca_importance.items(), key=lambda x:x[1], reverse=True)[0:10]"
   ]
  }
 ],
 "metadata": {
  "interpreter": {
   "hash": "3d597f4c481aa0f25dceb95d2a0067e73c0966dcbd003d741d821a7208527ecf"
  },
  "kernelspec": {
   "display_name": "Python 3.9.7",
   "language": "python",
   "name": "python3"
  },
  "language_info": {
   "codemirror_mode": {
    "name": "ipython",
    "version": 3
   },
   "file_extension": ".py",
   "mimetype": "text/x-python",
   "name": "python",
   "nbconvert_exporter": "python",
   "pygments_lexer": "ipython3",
   "version": "3.9.7"
  },
  "orig_nbformat": 4
 },
 "nbformat": 4,
 "nbformat_minor": 2
}
